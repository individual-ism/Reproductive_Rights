{
 "cells": [
  {
   "attachments": {},
   "cell_type": "markdown",
   "metadata": {},
   "source": [
    "# EDA for Reproductive Rights / Gender Equity / Abortion Rights Data Sets"
   ]
  },
  {
   "attachments": {},
   "cell_type": "markdown",
   "metadata": {},
   "source": [
    "### General Packages/Libraries Imports"
   ]
  },
  {
   "cell_type": "code",
   "execution_count": 3,
   "metadata": {},
   "outputs": [],
   "source": [
    "### Warning Handling\n",
    "import warnings\n",
    "\n",
    "### Data Manipulation\n",
    "import pandas as pd\n",
    "import numpy as np\n",
    "\n",
    "### Data Visualization\n",
    "import matplotlib.pyplot as plt\n",
    "import seaborn as sns\n",
    "import plotly.express as px\n",
    "\n",
    "### Machine Learning Preprocessing\n",
    "from sklearn.preprocessing import StandardScaler, OneHotEncoder\n",
    "\n",
    "### Machine Learning Model Development and Testing\n",
    "from sklearn.model_selection import train_test_split, GridSearchCV, cross_validate, cross_val_score\n",
    "from sklearn.pipeline import Pipeline\n",
    "from sklearn.metrics import accuracy_score\n",
    "\n",
    "### Machine Learning Classification Modeling\n",
    "from sklearn.linear_model import LogisticRegression, RidgeClassifier\n",
    "from sklearn.neighbors import KNeighborsClassifier, NearestCentroid\n",
    "from xgboost import XGBClassifier\n",
    "from sklearn.ensemble import RandomForestClassifier\n",
    "from sklearn.naive_bayes import CategoricalNB\n",
    "from sklearn.mixture import GaussianMixture\n",
    "from sklearn.cluster import KMeans\n",
    "import lightgbm as lgb\n",
    "\n",
    "### Machine Learning Regression Modeling\n",
    "from sklearn.linear_model import LinearRegression\n",
    "from sklearn.neighbors import KNeighborsRegressor\n",
    "from xgboost import XGBRegressor\n",
    "from sklearn.ensemble import RandomForestRegressor\n",
    "\n",
    "### Deep Learning\n",
    "from tensorflow.keras import models, layers\n",
    "from tensorflow.keras.callbacks import EarlyStopping\n",
    "from tensorflow.keras.datasets import boston_housing\n",
    "from tensorflow.keras.optimizers import Adam"
   ]
  },
  {
   "attachments": {},
   "cell_type": "markdown",
   "metadata": {},
   "source": [
    "## Data Set 1: Gender Inequality Index \n",
    "\n",
    "**Available at: https://www.kaggle.com/datasets/gianinamariapetrascu/gender-inequality-index**\n",
    "\n",
    "**Documentation: https://hdr.undp.org/data-center/thematic-composite-indices/gender-inequality-index#/indicies/GII**"
   ]
  },
  {
   "cell_type": "code",
   "execution_count": 4,
   "metadata": {},
   "outputs": [],
   "source": [
    "### Reading in the data set\n",
    "df1 = pd.read_csv('Data/Gender_Inequality_Index.csv')"
   ]
  },
  {
   "cell_type": "code",
   "execution_count": 5,
   "metadata": {},
   "outputs": [
    {
     "data": {
      "text/plain": [
       "(195, 11)"
      ]
     },
     "execution_count": 5,
     "metadata": {},
     "output_type": "execute_result"
    }
   ],
   "source": [
    "### Checking dimensions of the dataframe\n",
    "df1.shape"
   ]
  },
  {
   "cell_type": "code",
   "execution_count": 6,
   "metadata": {},
   "outputs": [
    {
     "name": "stdout",
     "output_type": "stream",
     "text": [
      "<class 'pandas.core.frame.DataFrame'>\n",
      "RangeIndex: 195 entries, 0 to 194\n",
      "Data columns (total 11 columns):\n",
      " #   Column                 Non-Null Count  Dtype  \n",
      "---  ------                 --------------  -----  \n",
      " 0   Country                195 non-null    object \n",
      " 1   Human_development      191 non-null    object \n",
      " 2   GII                    170 non-null    float64\n",
      " 3   Rank                   170 non-null    float64\n",
      " 4   Maternal_mortality     184 non-null    float64\n",
      " 5   Adolescent_birth_rate  195 non-null    float64\n",
      " 6   Seats_parliament       193 non-null    float64\n",
      " 7   F_secondary_educ       177 non-null    float64\n",
      " 8   M_secondary_educ       177 non-null    float64\n",
      " 9   F_Labour_force         180 non-null    float64\n",
      " 10  M_Labour_force         180 non-null    float64\n",
      "dtypes: float64(9), object(2)\n",
      "memory usage: 16.9+ KB\n"
     ]
    }
   ],
   "source": [
    "### Getting an overview of the data set (looking for missing values)\n",
    "df1.info()"
   ]
  },
  {
   "cell_type": "code",
   "execution_count": 7,
   "metadata": {},
   "outputs": [],
   "source": [
    "### Columns with missing data\n",
    "    # GII: 25 missing values (this is the measure of equality; lower == better)\n",
    "    # Rank: 25 missing values\n",
    "    # Maternal_mortality: 11 missing values\n",
    "    # Seats_parliment: 2 missing values\n",
    "    # F_secondary_educ: 18 missing values\n",
    "    # M_secondary_educ: 18 missing values\n",
    "    # F_Labour_force: 15 missing values\n",
    "    # M_Labour_force: 15 missing values"
   ]
  },
  {
   "cell_type": "code",
   "execution_count": 8,
   "metadata": {},
   "outputs": [],
   "source": [
    "### Converting F_secondary_educ and M_secondary_educ to percentages\n",
    "df1['f_educ_prop'] = [x / 100  for x in df1.F_secondary_educ]\n",
    "df1['m_educ_prop'] = [x / 100 for x in df1.M_secondary_educ]\n",
    "df1['f_parl_prop'] = [x / 100 for x in df1.Seats_parliament]"
   ]
  },
  {
   "cell_type": "code",
   "execution_count": 9,
   "metadata": {},
   "outputs": [
    {
     "data": {
      "text/plain": [
       "Very high    66\n",
       "High         49\n",
       "Medium       44\n",
       "Low          32\n",
       "Name: Human_development, dtype: int64"
      ]
     },
     "execution_count": 9,
     "metadata": {},
     "output_type": "execute_result"
    }
   ],
   "source": [
    "df1.Human_development.value_counts()"
   ]
  },
  {
   "cell_type": "code",
   "execution_count": 10,
   "metadata": {},
   "outputs": [
    {
     "data": {
      "text/html": [
       "<div>\n",
       "<style scoped>\n",
       "    .dataframe tbody tr th:only-of-type {\n",
       "        vertical-align: middle;\n",
       "    }\n",
       "\n",
       "    .dataframe tbody tr th {\n",
       "        vertical-align: top;\n",
       "    }\n",
       "\n",
       "    .dataframe thead th {\n",
       "        text-align: right;\n",
       "    }\n",
       "</style>\n",
       "<table border=\"1\" class=\"dataframe\">\n",
       "  <thead>\n",
       "    <tr style=\"text-align: right;\">\n",
       "      <th></th>\n",
       "      <th>Country</th>\n",
       "      <th>Human_development</th>\n",
       "      <th>GII</th>\n",
       "      <th>Rank</th>\n",
       "      <th>Maternal_mortality</th>\n",
       "      <th>Adolescent_birth_rate</th>\n",
       "      <th>Seats_parliament</th>\n",
       "      <th>F_secondary_educ</th>\n",
       "      <th>M_secondary_educ</th>\n",
       "      <th>F_Labour_force</th>\n",
       "      <th>M_Labour_force</th>\n",
       "      <th>f_educ_prop</th>\n",
       "      <th>m_educ_prop</th>\n",
       "      <th>f_parl_prop</th>\n",
       "    </tr>\n",
       "  </thead>\n",
       "  <tbody>\n",
       "    <tr>\n",
       "      <th>0</th>\n",
       "      <td>Switzerland</td>\n",
       "      <td>Very high</td>\n",
       "      <td>0.018</td>\n",
       "      <td>3.0</td>\n",
       "      <td>5.0</td>\n",
       "      <td>2.2</td>\n",
       "      <td>39.8</td>\n",
       "      <td>96.9</td>\n",
       "      <td>97.5</td>\n",
       "      <td>61.7</td>\n",
       "      <td>72.7</td>\n",
       "      <td>0.969</td>\n",
       "      <td>0.975</td>\n",
       "      <td>0.398</td>\n",
       "    </tr>\n",
       "    <tr>\n",
       "      <th>1</th>\n",
       "      <td>Norway</td>\n",
       "      <td>Very high</td>\n",
       "      <td>0.016</td>\n",
       "      <td>2.0</td>\n",
       "      <td>2.0</td>\n",
       "      <td>2.3</td>\n",
       "      <td>45.0</td>\n",
       "      <td>99.1</td>\n",
       "      <td>99.3</td>\n",
       "      <td>60.3</td>\n",
       "      <td>72.0</td>\n",
       "      <td>0.991</td>\n",
       "      <td>0.993</td>\n",
       "      <td>0.450</td>\n",
       "    </tr>\n",
       "    <tr>\n",
       "      <th>2</th>\n",
       "      <td>Iceland</td>\n",
       "      <td>Very high</td>\n",
       "      <td>0.043</td>\n",
       "      <td>8.0</td>\n",
       "      <td>4.0</td>\n",
       "      <td>5.4</td>\n",
       "      <td>47.6</td>\n",
       "      <td>99.8</td>\n",
       "      <td>99.7</td>\n",
       "      <td>61.7</td>\n",
       "      <td>70.5</td>\n",
       "      <td>0.998</td>\n",
       "      <td>0.997</td>\n",
       "      <td>0.476</td>\n",
       "    </tr>\n",
       "    <tr>\n",
       "      <th>3</th>\n",
       "      <td>Hong Kong</td>\n",
       "      <td>Very high</td>\n",
       "      <td>NaN</td>\n",
       "      <td>NaN</td>\n",
       "      <td>NaN</td>\n",
       "      <td>1.6</td>\n",
       "      <td>NaN</td>\n",
       "      <td>77.1</td>\n",
       "      <td>83.4</td>\n",
       "      <td>53.5</td>\n",
       "      <td>65.8</td>\n",
       "      <td>0.771</td>\n",
       "      <td>0.834</td>\n",
       "      <td>NaN</td>\n",
       "    </tr>\n",
       "    <tr>\n",
       "      <th>4</th>\n",
       "      <td>Australia</td>\n",
       "      <td>Very high</td>\n",
       "      <td>0.073</td>\n",
       "      <td>19.0</td>\n",
       "      <td>6.0</td>\n",
       "      <td>8.1</td>\n",
       "      <td>37.9</td>\n",
       "      <td>94.6</td>\n",
       "      <td>94.4</td>\n",
       "      <td>61.1</td>\n",
       "      <td>70.5</td>\n",
       "      <td>0.946</td>\n",
       "      <td>0.944</td>\n",
       "      <td>0.379</td>\n",
       "    </tr>\n",
       "  </tbody>\n",
       "</table>\n",
       "</div>"
      ],
      "text/plain": [
       "       Country Human_development    GII  Rank  Maternal_mortality  \\\n",
       "0  Switzerland         Very high  0.018   3.0                 5.0   \n",
       "1       Norway         Very high  0.016   2.0                 2.0   \n",
       "2      Iceland         Very high  0.043   8.0                 4.0   \n",
       "3    Hong Kong         Very high    NaN   NaN                 NaN   \n",
       "4    Australia         Very high  0.073  19.0                 6.0   \n",
       "\n",
       "   Adolescent_birth_rate  Seats_parliament  F_secondary_educ  \\\n",
       "0                    2.2              39.8              96.9   \n",
       "1                    2.3              45.0              99.1   \n",
       "2                    5.4              47.6              99.8   \n",
       "3                    1.6               NaN              77.1   \n",
       "4                    8.1              37.9              94.6   \n",
       "\n",
       "   M_secondary_educ  F_Labour_force  M_Labour_force  f_educ_prop  m_educ_prop  \\\n",
       "0              97.5            61.7            72.7        0.969        0.975   \n",
       "1              99.3            60.3            72.0        0.991        0.993   \n",
       "2              99.7            61.7            70.5        0.998        0.997   \n",
       "3              83.4            53.5            65.8        0.771        0.834   \n",
       "4              94.4            61.1            70.5        0.946        0.944   \n",
       "\n",
       "   f_parl_prop  \n",
       "0        0.398  \n",
       "1        0.450  \n",
       "2        0.476  \n",
       "3          NaN  \n",
       "4        0.379  "
      ]
     },
     "execution_count": 10,
     "metadata": {},
     "output_type": "execute_result"
    }
   ],
   "source": [
    "df1.head()"
   ]
  },
  {
   "cell_type": "code",
   "execution_count": 11,
   "metadata": {},
   "outputs": [
    {
     "data": {
      "application/vnd.plotly.v1+json": {
       "config": {
        "plotlyServerURL": "https://plot.ly"
       },
       "data": [
        {
         "customdata": [
          [
           "Switzerland"
          ],
          [
           "Norway"
          ],
          [
           "Iceland"
          ],
          [
           "Hong Kong"
          ],
          [
           "Australia"
          ],
          [
           "Denmark"
          ],
          [
           "Sweden"
          ],
          [
           "Ireland"
          ],
          [
           "Germany"
          ],
          [
           "Netherlands"
          ],
          [
           "Finland"
          ],
          [
           "Singapore"
          ],
          [
           "Belgium"
          ],
          [
           "New Zealand"
          ],
          [
           "Canada"
          ],
          [
           "Liechtenstein"
          ],
          [
           "Luxembourg"
          ],
          [
           "United Kingdom"
          ],
          [
           "Japan"
          ],
          [
           "South Korea"
          ],
          [
           "United States"
          ],
          [
           "Israel"
          ],
          [
           "Malta"
          ],
          [
           "Slovenia"
          ],
          [
           "Austria"
          ],
          [
           "United Arab Emirates"
          ],
          [
           "Spain"
          ],
          [
           "France"
          ],
          [
           "Cyprus"
          ],
          [
           "Italy"
          ],
          [
           "Estonia"
          ],
          [
           "Czechia"
          ],
          [
           "Greece"
          ],
          [
           "Poland"
          ],
          [
           "Bahrain"
          ],
          [
           "Lithuania"
          ],
          [
           "Saudi Arabia"
          ],
          [
           "Portugal"
          ],
          [
           "Latvia"
          ],
          [
           "Andorra"
          ],
          [
           "Croatia"
          ],
          [
           "Chile"
          ],
          [
           "Qatar"
          ],
          [
           "San Marino"
          ],
          [
           "Slovakia"
          ],
          [
           "Hungary"
          ],
          [
           "Argentina"
          ],
          [
           "Türkiye"
          ],
          [
           "Montenegro"
          ],
          [
           "Kuwait"
          ],
          [
           "Brunei Darussalam"
          ],
          [
           "Russian Federation"
          ],
          [
           "Romania"
          ],
          [
           "Oman"
          ],
          [
           "Bahamas"
          ],
          [
           "Kazakhstan"
          ],
          [
           "Trinidad and Tobago"
          ],
          [
           "Costa Rica"
          ],
          [
           "Uruguay"
          ],
          [
           "Belarus"
          ],
          [
           "Panama"
          ],
          [
           "Malaysia"
          ],
          [
           "Georgia"
          ],
          [
           "Mauritius"
          ],
          [
           "Serbia"
          ],
          [
           "Thailand"
          ]
         ],
         "hovertemplate": "Human_development=Very high<br>f_educ_prop=%{x}<br>Maternal_mortality=%{y}<br>Country=%{customdata[0]}<extra></extra>",
         "legendgroup": "Very high",
         "marker": {
          "color": "#636efa",
          "symbol": "circle"
         },
         "mode": "markers",
         "name": "Very high",
         "orientation": "v",
         "showlegend": true,
         "type": "scatter",
         "x": [
          0.9690000000000001,
          0.991,
          0.998,
          0.7709999999999999,
          0.946,
          0.951,
          0.9179999999999999,
          0.8809999999999999,
          0.961,
          0.898,
          0.99,
          0.805,
          0.872,
          0.82,
          1,
          null,
          1,
          0.998,
          0.9590000000000001,
          0.831,
          0.965,
          0.9159999999999999,
          0.8220000000000001,
          0.976,
          1,
          0.82,
          0.785,
          0.835,
          0.8109999999999999,
          0.7859999999999999,
          0.976,
          0.998,
          0.6990000000000001,
          0.865,
          0.799,
          0.955,
          0.713,
          0.597,
          0.997,
          0.7070000000000001,
          0.97,
          0.8029999999999999,
          0.7979999999999999,
          0.818,
          0.9890000000000001,
          0.976,
          0.71,
          0.563,
          0.9229999999999999,
          0.609,
          0.7040000000000001,
          0.9279999999999999,
          0.888,
          0.966,
          0.87,
          0.998,
          0.848,
          0.562,
          0.596,
          0.975,
          0.7020000000000001,
          0.75,
          0.971,
          0.644,
          0.8859999999999999,
          0.47600000000000003
         ],
         "xaxis": "x",
         "y": [
          5,
          2,
          4,
          null,
          6,
          4,
          4,
          5,
          7,
          5,
          3,
          8,
          5,
          9,
          10,
          null,
          5,
          7,
          5,
          11,
          19,
          3,
          6,
          7,
          5,
          3,
          4,
          8,
          6,
          2,
          9,
          3,
          3,
          2,
          14,
          8,
          17,
          8,
          19,
          null,
          8,
          13,
          9,
          null,
          5,
          12,
          39,
          17,
          6,
          12,
          31,
          17,
          19,
          19,
          70,
          10,
          67,
          27,
          17,
          2,
          52,
          29,
          25,
          61,
          12,
          37
         ],
         "yaxis": "y"
        },
        {
         "customdata": [
          [
           "Albania"
          ],
          [
           "Bulgaria"
          ],
          [
           "Grenada"
          ],
          [
           "Barbados"
          ],
          [
           "Antigua and Barbuda"
          ],
          [
           "Seychelles"
          ],
          [
           "Sri Lanka"
          ],
          [
           "Bosnia and Herzegovina"
          ],
          [
           "Saint Kitts and Nevis"
          ],
          [
           "Iran"
          ],
          [
           "Ukraine"
          ],
          [
           "North Macedonia"
          ],
          [
           "China"
          ],
          [
           "Dominican Republic"
          ],
          [
           "Moldova"
          ],
          [
           "Palau"
          ],
          [
           "Cuba"
          ],
          [
           "Peru"
          ],
          [
           "Armenia"
          ],
          [
           "Mexico"
          ],
          [
           "Brazil"
          ],
          [
           "Colombia"
          ],
          [
           "Saint Vincent and the Grenadines"
          ],
          [
           "Maldives"
          ],
          [
           "Algeria"
          ],
          [
           "Azerbaijan"
          ],
          [
           "Tonga"
          ],
          [
           "Turkmenistan"
          ],
          [
           "Ecuador"
          ],
          [
           "Mongolia"
          ],
          [
           "Egypt"
          ],
          [
           "Tunisia"
          ],
          [
           "Fiji"
          ],
          [
           "Suriname"
          ],
          [
           "Uzbekistan"
          ],
          [
           "Dominica"
          ],
          [
           "Jordan"
          ],
          [
           "Libya"
          ],
          [
           "Paraguay"
          ],
          [
           "Palestine"
          ],
          [
           "Saint Lucia"
          ],
          [
           "Guyana"
          ],
          [
           "South Africa"
          ],
          [
           "Jamaica"
          ],
          [
           "Samoa"
          ],
          [
           "Gabon"
          ],
          [
           "Lebanon"
          ],
          [
           "Indonesia"
          ],
          [
           "Viet Nam"
          ]
         ],
         "hovertemplate": "Human_development=High<br>f_educ_prop=%{x}<br>Maternal_mortality=%{y}<br>Country=%{customdata[0]}<extra></extra>",
         "legendgroup": "High",
         "marker": {
          "color": "#EF553B",
          "symbol": "circle"
         },
         "mode": "markers",
         "name": "High",
         "orientation": "v",
         "showlegend": true,
         "type": "scatter",
         "x": [
          0.9540000000000001,
          0.9490000000000001,
          null,
          0.9540000000000001,
          null,
          null,
          0.84,
          0.8270000000000001,
          null,
          0.716,
          0.9620000000000001,
          0.619,
          0.7829999999999999,
          0.774,
          0.961,
          0.9690000000000001,
          0.895,
          0.593,
          0.96,
          0.6509999999999999,
          0.624,
          0.589,
          0.441,
          0.46399999999999997,
          0.46,
          0.9359999999999999,
          0.935,
          0.935,
          0.53,
          0.7929999999999999,
          0.816,
          0.429,
          0.902,
          0.6990000000000001,
          0.9990000000000001,
          null,
          0.774,
          0.705,
          0.525,
          0.679,
          0.499,
          0.695,
          0.6890000000000001,
          0.743,
          0.7909999999999999,
          0.672,
          0.5429999999999999,
          0.51,
          0.613
         ],
         "xaxis": "x",
         "y": [
          15,
          10,
          25,
          27,
          42,
          53,
          36,
          10,
          null,
          16,
          19,
          7,
          29,
          95,
          19,
          null,
          36,
          88,
          26,
          33,
          60,
          83,
          68,
          53,
          112,
          26,
          52,
          7,
          59,
          45,
          37,
          43,
          34,
          120,
          29,
          null,
          46,
          72,
          84,
          27,
          117,
          169,
          119,
          80,
          43,
          252,
          29,
          177,
          43
         ],
         "yaxis": "y"
        },
        {
         "customdata": [
          [
           "Philippines"
          ],
          [
           "Botswana"
          ],
          [
           "Bolivia"
          ],
          [
           "Kyrgyzstan"
          ],
          [
           "Venezuela"
          ],
          [
           "Iraq"
          ],
          [
           "Tajikistan"
          ],
          [
           "Belize"
          ],
          [
           "Morocco"
          ],
          [
           "El Salvador"
          ],
          [
           "Nicaragua"
          ],
          [
           "Bhutan"
          ],
          [
           "Cabo Verde"
          ],
          [
           "Bangladesh"
          ],
          [
           "Tuvalu"
          ],
          [
           "Marshall Islands"
          ],
          [
           "India"
          ],
          [
           "Ghana"
          ],
          [
           "Micronesia"
          ],
          [
           "Guatemala"
          ],
          [
           "Kiribati"
          ],
          [
           "Honduras"
          ],
          [
           "Sao Tome and Principe"
          ],
          [
           "Namibia"
          ],
          [
           "Lao People's Democratic Republic"
          ],
          [
           "Timor-Leste"
          ],
          [
           "Vanuatu"
          ],
          [
           "Nepal"
          ],
          [
           "Eswatini"
          ],
          [
           "Equatorial Guinea"
          ],
          [
           "Cambodia"
          ],
          [
           "Zimbabwe"
          ],
          [
           "Angola"
          ],
          [
           "Myanmar"
          ],
          [
           "Syrian Arab Republic"
          ],
          [
           "Cameroon"
          ],
          [
           "Kenya"
          ],
          [
           "Congo"
          ],
          [
           "Zambia"
          ],
          [
           "Solomon Islands"
          ],
          [
           "Comoros"
          ],
          [
           "Papua New Guinea"
          ],
          [
           "Mauritania"
          ],
          [
           "Côte d'Ivoire"
          ]
         ],
         "hovertemplate": "Human_development=Medium<br>f_educ_prop=%{x}<br>Maternal_mortality=%{y}<br>Country=%{customdata[0]}<extra></extra>",
         "legendgroup": "Medium",
         "marker": {
          "color": "#00cc96",
          "symbol": "circle"
         },
         "mode": "markers",
         "name": "Medium",
         "orientation": "v",
         "showlegend": true,
         "type": "scatter",
         "x": [
          0.7340000000000001,
          0.9129999999999999,
          0.601,
          1,
          0.7979999999999999,
          0.42,
          0.935,
          0.545,
          0.309,
          0.42700000000000005,
          0.512,
          0.23600000000000002,
          0.28800000000000003,
          0.506,
          0.6,
          0.9159999999999999,
          0.418,
          0.58,
          null,
          0.295,
          null,
          0.358,
          0.39899999999999997,
          0.415,
          0.377,
          0.337,
          null,
          0.28800000000000003,
          0.34,
          null,
          0.183,
          0.618,
          0.282,
          0.385,
          0.371,
          0.368,
          0.311,
          0.48,
          0.47100000000000003,
          null,
          null,
          0.10800000000000001,
          0.145,
          0.239
         ],
         "xaxis": "x",
         "y": [
          121,
          144,
          155,
          60,
          125,
          79,
          17,
          36,
          70,
          46,
          98,
          183,
          58,
          173,
          null,
          null,
          133,
          308,
          88,
          95,
          92,
          65,
          130,
          195,
          185,
          142,
          72,
          186,
          437,
          301,
          160,
          458,
          241,
          250,
          31,
          529,
          342,
          378,
          213,
          104,
          273,
          145,
          766,
          617
         ],
         "yaxis": "y"
        },
        {
         "customdata": [
          [
           "Tanzania"
          ],
          [
           "Pakistan"
          ],
          [
           "Togo"
          ],
          [
           "Haiti"
          ],
          [
           "Nigeria"
          ],
          [
           "Rwanda"
          ],
          [
           "Benin"
          ],
          [
           "Uganda"
          ],
          [
           "Lesotho"
          ],
          [
           "Malawi"
          ],
          [
           "Senegal"
          ],
          [
           "Djibouti"
          ],
          [
           "Sudan"
          ],
          [
           "Madagascar"
          ],
          [
           "Gambia"
          ],
          [
           "Ethiopia"
          ],
          [
           "Eritrea"
          ],
          [
           "Guinea-Bissau"
          ],
          [
           "Liberia"
          ],
          [
           "Congo"
          ],
          [
           "Afghanistan"
          ],
          [
           "Sierra Leone"
          ],
          [
           "Guinea"
          ],
          [
           "Yemen"
          ],
          [
           "Burkina Faso"
          ],
          [
           "Mozambique"
          ],
          [
           "Mali"
          ],
          [
           "Burundi"
          ],
          [
           "Central African Republic"
          ],
          [
           "Niger"
          ],
          [
           "Chad"
          ],
          [
           "South Sudan"
          ]
         ],
         "hovertemplate": "Human_development=Low<br>f_educ_prop=%{x}<br>Maternal_mortality=%{y}<br>Country=%{customdata[0]}<extra></extra>",
         "legendgroup": "Low",
         "marker": {
          "color": "#ab63fa",
          "symbol": "circle"
         },
         "mode": "markers",
         "name": "Low",
         "orientation": "v",
         "showlegend": true,
         "type": "scatter",
         "x": [
          0.13,
          0.221,
          0.139,
          0.27899999999999997,
          0.40399999999999997,
          0.114,
          0.21100000000000002,
          0.293,
          0.272,
          0.213,
          0.111,
          null,
          0.16399999999999998,
          0.273,
          0.299,
          0.091,
          null,
          0.098,
          0.20800000000000002,
          0.40299999999999997,
          0.064,
          0.34700000000000003,
          0.07200000000000001,
          0.22399999999999998,
          0.113,
          0.10800000000000001,
          0.08,
          0.078,
          0.139,
          0.092,
          0.077,
          0.265
         ],
         "xaxis": "x",
         "y": [
          524,
          140,
          396,
          480,
          917,
          248,
          397,
          375,
          544,
          349,
          315,
          248,
          295,
          335,
          597,
          401,
          480,
          667,
          661,
          473,
          638,
          1120,
          576,
          164,
          320,
          289,
          562,
          548,
          829,
          509,
          1140,
          1150
         ],
         "yaxis": "y"
        }
       ],
       "layout": {
        "legend": {
         "title": {
          "text": "Human_development"
         },
         "tracegroupgap": 0
        },
        "margin": {
         "t": 60
        },
        "template": {
         "data": {
          "bar": [
           {
            "error_x": {
             "color": "#2a3f5f"
            },
            "error_y": {
             "color": "#2a3f5f"
            },
            "marker": {
             "line": {
              "color": "#E5ECF6",
              "width": 0.5
             },
             "pattern": {
              "fillmode": "overlay",
              "size": 10,
              "solidity": 0.2
             }
            },
            "type": "bar"
           }
          ],
          "barpolar": [
           {
            "marker": {
             "line": {
              "color": "#E5ECF6",
              "width": 0.5
             },
             "pattern": {
              "fillmode": "overlay",
              "size": 10,
              "solidity": 0.2
             }
            },
            "type": "barpolar"
           }
          ],
          "carpet": [
           {
            "aaxis": {
             "endlinecolor": "#2a3f5f",
             "gridcolor": "white",
             "linecolor": "white",
             "minorgridcolor": "white",
             "startlinecolor": "#2a3f5f"
            },
            "baxis": {
             "endlinecolor": "#2a3f5f",
             "gridcolor": "white",
             "linecolor": "white",
             "minorgridcolor": "white",
             "startlinecolor": "#2a3f5f"
            },
            "type": "carpet"
           }
          ],
          "choropleth": [
           {
            "colorbar": {
             "outlinewidth": 0,
             "ticks": ""
            },
            "type": "choropleth"
           }
          ],
          "contour": [
           {
            "colorbar": {
             "outlinewidth": 0,
             "ticks": ""
            },
            "colorscale": [
             [
              0,
              "#0d0887"
             ],
             [
              0.1111111111111111,
              "#46039f"
             ],
             [
              0.2222222222222222,
              "#7201a8"
             ],
             [
              0.3333333333333333,
              "#9c179e"
             ],
             [
              0.4444444444444444,
              "#bd3786"
             ],
             [
              0.5555555555555556,
              "#d8576b"
             ],
             [
              0.6666666666666666,
              "#ed7953"
             ],
             [
              0.7777777777777778,
              "#fb9f3a"
             ],
             [
              0.8888888888888888,
              "#fdca26"
             ],
             [
              1,
              "#f0f921"
             ]
            ],
            "type": "contour"
           }
          ],
          "contourcarpet": [
           {
            "colorbar": {
             "outlinewidth": 0,
             "ticks": ""
            },
            "type": "contourcarpet"
           }
          ],
          "heatmap": [
           {
            "colorbar": {
             "outlinewidth": 0,
             "ticks": ""
            },
            "colorscale": [
             [
              0,
              "#0d0887"
             ],
             [
              0.1111111111111111,
              "#46039f"
             ],
             [
              0.2222222222222222,
              "#7201a8"
             ],
             [
              0.3333333333333333,
              "#9c179e"
             ],
             [
              0.4444444444444444,
              "#bd3786"
             ],
             [
              0.5555555555555556,
              "#d8576b"
             ],
             [
              0.6666666666666666,
              "#ed7953"
             ],
             [
              0.7777777777777778,
              "#fb9f3a"
             ],
             [
              0.8888888888888888,
              "#fdca26"
             ],
             [
              1,
              "#f0f921"
             ]
            ],
            "type": "heatmap"
           }
          ],
          "heatmapgl": [
           {
            "colorbar": {
             "outlinewidth": 0,
             "ticks": ""
            },
            "colorscale": [
             [
              0,
              "#0d0887"
             ],
             [
              0.1111111111111111,
              "#46039f"
             ],
             [
              0.2222222222222222,
              "#7201a8"
             ],
             [
              0.3333333333333333,
              "#9c179e"
             ],
             [
              0.4444444444444444,
              "#bd3786"
             ],
             [
              0.5555555555555556,
              "#d8576b"
             ],
             [
              0.6666666666666666,
              "#ed7953"
             ],
             [
              0.7777777777777778,
              "#fb9f3a"
             ],
             [
              0.8888888888888888,
              "#fdca26"
             ],
             [
              1,
              "#f0f921"
             ]
            ],
            "type": "heatmapgl"
           }
          ],
          "histogram": [
           {
            "marker": {
             "pattern": {
              "fillmode": "overlay",
              "size": 10,
              "solidity": 0.2
             }
            },
            "type": "histogram"
           }
          ],
          "histogram2d": [
           {
            "colorbar": {
             "outlinewidth": 0,
             "ticks": ""
            },
            "colorscale": [
             [
              0,
              "#0d0887"
             ],
             [
              0.1111111111111111,
              "#46039f"
             ],
             [
              0.2222222222222222,
              "#7201a8"
             ],
             [
              0.3333333333333333,
              "#9c179e"
             ],
             [
              0.4444444444444444,
              "#bd3786"
             ],
             [
              0.5555555555555556,
              "#d8576b"
             ],
             [
              0.6666666666666666,
              "#ed7953"
             ],
             [
              0.7777777777777778,
              "#fb9f3a"
             ],
             [
              0.8888888888888888,
              "#fdca26"
             ],
             [
              1,
              "#f0f921"
             ]
            ],
            "type": "histogram2d"
           }
          ],
          "histogram2dcontour": [
           {
            "colorbar": {
             "outlinewidth": 0,
             "ticks": ""
            },
            "colorscale": [
             [
              0,
              "#0d0887"
             ],
             [
              0.1111111111111111,
              "#46039f"
             ],
             [
              0.2222222222222222,
              "#7201a8"
             ],
             [
              0.3333333333333333,
              "#9c179e"
             ],
             [
              0.4444444444444444,
              "#bd3786"
             ],
             [
              0.5555555555555556,
              "#d8576b"
             ],
             [
              0.6666666666666666,
              "#ed7953"
             ],
             [
              0.7777777777777778,
              "#fb9f3a"
             ],
             [
              0.8888888888888888,
              "#fdca26"
             ],
             [
              1,
              "#f0f921"
             ]
            ],
            "type": "histogram2dcontour"
           }
          ],
          "mesh3d": [
           {
            "colorbar": {
             "outlinewidth": 0,
             "ticks": ""
            },
            "type": "mesh3d"
           }
          ],
          "parcoords": [
           {
            "line": {
             "colorbar": {
              "outlinewidth": 0,
              "ticks": ""
             }
            },
            "type": "parcoords"
           }
          ],
          "pie": [
           {
            "automargin": true,
            "type": "pie"
           }
          ],
          "scatter": [
           {
            "fillpattern": {
             "fillmode": "overlay",
             "size": 10,
             "solidity": 0.2
            },
            "type": "scatter"
           }
          ],
          "scatter3d": [
           {
            "line": {
             "colorbar": {
              "outlinewidth": 0,
              "ticks": ""
             }
            },
            "marker": {
             "colorbar": {
              "outlinewidth": 0,
              "ticks": ""
             }
            },
            "type": "scatter3d"
           }
          ],
          "scattercarpet": [
           {
            "marker": {
             "colorbar": {
              "outlinewidth": 0,
              "ticks": ""
             }
            },
            "type": "scattercarpet"
           }
          ],
          "scattergeo": [
           {
            "marker": {
             "colorbar": {
              "outlinewidth": 0,
              "ticks": ""
             }
            },
            "type": "scattergeo"
           }
          ],
          "scattergl": [
           {
            "marker": {
             "colorbar": {
              "outlinewidth": 0,
              "ticks": ""
             }
            },
            "type": "scattergl"
           }
          ],
          "scattermapbox": [
           {
            "marker": {
             "colorbar": {
              "outlinewidth": 0,
              "ticks": ""
             }
            },
            "type": "scattermapbox"
           }
          ],
          "scatterpolar": [
           {
            "marker": {
             "colorbar": {
              "outlinewidth": 0,
              "ticks": ""
             }
            },
            "type": "scatterpolar"
           }
          ],
          "scatterpolargl": [
           {
            "marker": {
             "colorbar": {
              "outlinewidth": 0,
              "ticks": ""
             }
            },
            "type": "scatterpolargl"
           }
          ],
          "scatterternary": [
           {
            "marker": {
             "colorbar": {
              "outlinewidth": 0,
              "ticks": ""
             }
            },
            "type": "scatterternary"
           }
          ],
          "surface": [
           {
            "colorbar": {
             "outlinewidth": 0,
             "ticks": ""
            },
            "colorscale": [
             [
              0,
              "#0d0887"
             ],
             [
              0.1111111111111111,
              "#46039f"
             ],
             [
              0.2222222222222222,
              "#7201a8"
             ],
             [
              0.3333333333333333,
              "#9c179e"
             ],
             [
              0.4444444444444444,
              "#bd3786"
             ],
             [
              0.5555555555555556,
              "#d8576b"
             ],
             [
              0.6666666666666666,
              "#ed7953"
             ],
             [
              0.7777777777777778,
              "#fb9f3a"
             ],
             [
              0.8888888888888888,
              "#fdca26"
             ],
             [
              1,
              "#f0f921"
             ]
            ],
            "type": "surface"
           }
          ],
          "table": [
           {
            "cells": {
             "fill": {
              "color": "#EBF0F8"
             },
             "line": {
              "color": "white"
             }
            },
            "header": {
             "fill": {
              "color": "#C8D4E3"
             },
             "line": {
              "color": "white"
             }
            },
            "type": "table"
           }
          ]
         },
         "layout": {
          "annotationdefaults": {
           "arrowcolor": "#2a3f5f",
           "arrowhead": 0,
           "arrowwidth": 1
          },
          "autotypenumbers": "strict",
          "coloraxis": {
           "colorbar": {
            "outlinewidth": 0,
            "ticks": ""
           }
          },
          "colorscale": {
           "diverging": [
            [
             0,
             "#8e0152"
            ],
            [
             0.1,
             "#c51b7d"
            ],
            [
             0.2,
             "#de77ae"
            ],
            [
             0.3,
             "#f1b6da"
            ],
            [
             0.4,
             "#fde0ef"
            ],
            [
             0.5,
             "#f7f7f7"
            ],
            [
             0.6,
             "#e6f5d0"
            ],
            [
             0.7,
             "#b8e186"
            ],
            [
             0.8,
             "#7fbc41"
            ],
            [
             0.9,
             "#4d9221"
            ],
            [
             1,
             "#276419"
            ]
           ],
           "sequential": [
            [
             0,
             "#0d0887"
            ],
            [
             0.1111111111111111,
             "#46039f"
            ],
            [
             0.2222222222222222,
             "#7201a8"
            ],
            [
             0.3333333333333333,
             "#9c179e"
            ],
            [
             0.4444444444444444,
             "#bd3786"
            ],
            [
             0.5555555555555556,
             "#d8576b"
            ],
            [
             0.6666666666666666,
             "#ed7953"
            ],
            [
             0.7777777777777778,
             "#fb9f3a"
            ],
            [
             0.8888888888888888,
             "#fdca26"
            ],
            [
             1,
             "#f0f921"
            ]
           ],
           "sequentialminus": [
            [
             0,
             "#0d0887"
            ],
            [
             0.1111111111111111,
             "#46039f"
            ],
            [
             0.2222222222222222,
             "#7201a8"
            ],
            [
             0.3333333333333333,
             "#9c179e"
            ],
            [
             0.4444444444444444,
             "#bd3786"
            ],
            [
             0.5555555555555556,
             "#d8576b"
            ],
            [
             0.6666666666666666,
             "#ed7953"
            ],
            [
             0.7777777777777778,
             "#fb9f3a"
            ],
            [
             0.8888888888888888,
             "#fdca26"
            ],
            [
             1,
             "#f0f921"
            ]
           ]
          },
          "colorway": [
           "#636efa",
           "#EF553B",
           "#00cc96",
           "#ab63fa",
           "#FFA15A",
           "#19d3f3",
           "#FF6692",
           "#B6E880",
           "#FF97FF",
           "#FECB52"
          ],
          "font": {
           "color": "#2a3f5f"
          },
          "geo": {
           "bgcolor": "white",
           "lakecolor": "white",
           "landcolor": "#E5ECF6",
           "showlakes": true,
           "showland": true,
           "subunitcolor": "white"
          },
          "hoverlabel": {
           "align": "left"
          },
          "hovermode": "closest",
          "mapbox": {
           "style": "light"
          },
          "paper_bgcolor": "white",
          "plot_bgcolor": "#E5ECF6",
          "polar": {
           "angularaxis": {
            "gridcolor": "white",
            "linecolor": "white",
            "ticks": ""
           },
           "bgcolor": "#E5ECF6",
           "radialaxis": {
            "gridcolor": "white",
            "linecolor": "white",
            "ticks": ""
           }
          },
          "scene": {
           "xaxis": {
            "backgroundcolor": "#E5ECF6",
            "gridcolor": "white",
            "gridwidth": 2,
            "linecolor": "white",
            "showbackground": true,
            "ticks": "",
            "zerolinecolor": "white"
           },
           "yaxis": {
            "backgroundcolor": "#E5ECF6",
            "gridcolor": "white",
            "gridwidth": 2,
            "linecolor": "white",
            "showbackground": true,
            "ticks": "",
            "zerolinecolor": "white"
           },
           "zaxis": {
            "backgroundcolor": "#E5ECF6",
            "gridcolor": "white",
            "gridwidth": 2,
            "linecolor": "white",
            "showbackground": true,
            "ticks": "",
            "zerolinecolor": "white"
           }
          },
          "shapedefaults": {
           "line": {
            "color": "#2a3f5f"
           }
          },
          "ternary": {
           "aaxis": {
            "gridcolor": "white",
            "linecolor": "white",
            "ticks": ""
           },
           "baxis": {
            "gridcolor": "white",
            "linecolor": "white",
            "ticks": ""
           },
           "bgcolor": "#E5ECF6",
           "caxis": {
            "gridcolor": "white",
            "linecolor": "white",
            "ticks": ""
           }
          },
          "title": {
           "x": 0.05
          },
          "xaxis": {
           "automargin": true,
           "gridcolor": "white",
           "linecolor": "white",
           "ticks": "",
           "title": {
            "standoff": 15
           },
           "zerolinecolor": "white",
           "zerolinewidth": 2
          },
          "yaxis": {
           "automargin": true,
           "gridcolor": "white",
           "linecolor": "white",
           "ticks": "",
           "title": {
            "standoff": 15
           },
           "zerolinecolor": "white",
           "zerolinewidth": 2
          }
         }
        },
        "xaxis": {
         "anchor": "y",
         "domain": [
          0,
          1
         ],
         "title": {
          "text": "f_educ_prop"
         }
        },
        "yaxis": {
         "anchor": "x",
         "domain": [
          0,
          1
         ],
         "title": {
          "text": "Maternal_mortality"
         }
        }
       }
      }
     },
     "metadata": {},
     "output_type": "display_data"
    }
   ],
   "source": [
    "### Interactive Plot of Percentage of women with secondary education vs. maternal mortality\n",
    "px.scatter(df1, \n",
    "           y = 'Maternal_mortality',\n",
    "           x = 'f_educ_prop',\n",
    "           hover_data = ['Country'],\n",
    "           color = 'Human_development')"
   ]
  },
  {
   "attachments": {},
   "cell_type": "markdown",
   "metadata": {},
   "source": [
    "## Data Set 2: Driving Time to Abortion Clinic in US"
   ]
  },
  {
   "attachments": {},
   "cell_type": "markdown",
   "metadata": {},
   "source": [
    "**Available at: https://data.world/the-pudding/driving-times-to-abortion-clinics**"
   ]
  },
  {
   "cell_type": "code",
   "execution_count": 12,
   "metadata": {},
   "outputs": [],
   "source": [
    "df2 = pd.read_csv('Data/cities.csv')"
   ]
  },
  {
   "cell_type": "code",
   "execution_count": 13,
   "metadata": {},
   "outputs": [
    {
     "data": {
      "text/html": [
       "<div>\n",
       "<style scoped>\n",
       "    .dataframe tbody tr th:only-of-type {\n",
       "        vertical-align: middle;\n",
       "    }\n",
       "\n",
       "    .dataframe tbody tr th {\n",
       "        vertical-align: top;\n",
       "    }\n",
       "\n",
       "    .dataframe thead th {\n",
       "        text-align: right;\n",
       "    }\n",
       "</style>\n",
       "<table border=\"1\" class=\"dataframe\">\n",
       "  <thead>\n",
       "    <tr style=\"text-align: right;\">\n",
       "      <th></th>\n",
       "      <th>id</th>\n",
       "      <th>city</th>\n",
       "      <th>state</th>\n",
       "      <th>population</th>\n",
       "      <th>latitude</th>\n",
       "      <th>longitude</th>\n",
       "      <th>gestation_8_duration</th>\n",
       "      <th>gestation_8_duration_closed</th>\n",
       "      <th>gestation_12_duration</th>\n",
       "      <th>gestation_12_duration_closed</th>\n",
       "      <th>gestation_16_duration</th>\n",
       "      <th>gestation_16_duration_closed</th>\n",
       "      <th>gestation_20_duration</th>\n",
       "      <th>gestation_20_duration_closed</th>\n",
       "    </tr>\n",
       "  </thead>\n",
       "  <tbody>\n",
       "    <tr>\n",
       "      <th>0</th>\n",
       "      <td>new-york-new-york</td>\n",
       "      <td>New York</td>\n",
       "      <td>New York</td>\n",
       "      <td>8550405</td>\n",
       "      <td>40.712784</td>\n",
       "      <td>-74.005941</td>\n",
       "      <td>0</td>\n",
       "      <td>0</td>\n",
       "      <td>0</td>\n",
       "      <td>0</td>\n",
       "      <td>0</td>\n",
       "      <td>0</td>\n",
       "      <td>0</td>\n",
       "      <td>0</td>\n",
       "    </tr>\n",
       "    <tr>\n",
       "      <th>1</th>\n",
       "      <td>los-angeles-california</td>\n",
       "      <td>Los Angeles</td>\n",
       "      <td>California</td>\n",
       "      <td>3971883</td>\n",
       "      <td>34.052234</td>\n",
       "      <td>-118.243685</td>\n",
       "      <td>0</td>\n",
       "      <td>0</td>\n",
       "      <td>0</td>\n",
       "      <td>0</td>\n",
       "      <td>0</td>\n",
       "      <td>0</td>\n",
       "      <td>0</td>\n",
       "      <td>0</td>\n",
       "    </tr>\n",
       "    <tr>\n",
       "      <th>2</th>\n",
       "      <td>chicago-illinois</td>\n",
       "      <td>Chicago</td>\n",
       "      <td>Illinois</td>\n",
       "      <td>2720546</td>\n",
       "      <td>41.878114</td>\n",
       "      <td>-87.629798</td>\n",
       "      <td>0</td>\n",
       "      <td>0</td>\n",
       "      <td>0</td>\n",
       "      <td>0</td>\n",
       "      <td>0</td>\n",
       "      <td>0</td>\n",
       "      <td>0</td>\n",
       "      <td>0</td>\n",
       "    </tr>\n",
       "    <tr>\n",
       "      <th>3</th>\n",
       "      <td>houston-texas</td>\n",
       "      <td>Houston</td>\n",
       "      <td>Texas</td>\n",
       "      <td>2296224</td>\n",
       "      <td>29.760427</td>\n",
       "      <td>-95.369803</td>\n",
       "      <td>0</td>\n",
       "      <td>0</td>\n",
       "      <td>0</td>\n",
       "      <td>0</td>\n",
       "      <td>0</td>\n",
       "      <td>0</td>\n",
       "      <td>0</td>\n",
       "      <td>4</td>\n",
       "    </tr>\n",
       "    <tr>\n",
       "      <th>4</th>\n",
       "      <td>philadelphia-pennsylvania</td>\n",
       "      <td>Philadelphia</td>\n",
       "      <td>Pennsylvania</td>\n",
       "      <td>1567442</td>\n",
       "      <td>39.952584</td>\n",
       "      <td>-75.165222</td>\n",
       "      <td>0</td>\n",
       "      <td>0</td>\n",
       "      <td>0</td>\n",
       "      <td>0</td>\n",
       "      <td>0</td>\n",
       "      <td>0</td>\n",
       "      <td>0</td>\n",
       "      <td>0</td>\n",
       "    </tr>\n",
       "  </tbody>\n",
       "</table>\n",
       "</div>"
      ],
      "text/plain": [
       "                          id          city         state  population  \\\n",
       "0          new-york-new-york      New York      New York     8550405   \n",
       "1     los-angeles-california   Los Angeles    California     3971883   \n",
       "2           chicago-illinois       Chicago      Illinois     2720546   \n",
       "3              houston-texas       Houston         Texas     2296224   \n",
       "4  philadelphia-pennsylvania  Philadelphia  Pennsylvania     1567442   \n",
       "\n",
       "    latitude   longitude  gestation_8_duration  gestation_8_duration_closed  \\\n",
       "0  40.712784  -74.005941                     0                            0   \n",
       "1  34.052234 -118.243685                     0                            0   \n",
       "2  41.878114  -87.629798                     0                            0   \n",
       "3  29.760427  -95.369803                     0                            0   \n",
       "4  39.952584  -75.165222                     0                            0   \n",
       "\n",
       "   gestation_12_duration  gestation_12_duration_closed  gestation_16_duration  \\\n",
       "0                      0                             0                      0   \n",
       "1                      0                             0                      0   \n",
       "2                      0                             0                      0   \n",
       "3                      0                             0                      0   \n",
       "4                      0                             0                      0   \n",
       "\n",
       "   gestation_16_duration_closed  gestation_20_duration  \\\n",
       "0                             0                      0   \n",
       "1                             0                      0   \n",
       "2                             0                      0   \n",
       "3                             0                      0   \n",
       "4                             0                      0   \n",
       "\n",
       "   gestation_20_duration_closed  \n",
       "0                             0  \n",
       "1                             0  \n",
       "2                             0  \n",
       "3                             4  \n",
       "4                             0  "
      ]
     },
     "execution_count": 13,
     "metadata": {},
     "output_type": "execute_result"
    }
   ],
   "source": [
    "df2.head()"
   ]
  },
  {
   "attachments": {},
   "cell_type": "markdown",
   "metadata": {},
   "source": [
    "## Data Set 3: Pregnancy, Birth, & Abortion Rates in US"
   ]
  },
  {
   "attachments": {},
   "cell_type": "markdown",
   "metadata": {},
   "source": [
    "**Available at: https://data.world/vizwiz/pregnancy-birth-abortion-rates-in-the-united-states**"
   ]
  },
  {
   "cell_type": "code",
   "execution_count": 14,
   "metadata": {},
   "outputs": [],
   "source": [
    "df3 = pd.read_csv('Data/State Pregnancy-Birth-Abortion Rates.csv')"
   ]
  },
  {
   "cell_type": "code",
   "execution_count": 15,
   "metadata": {},
   "outputs": [
    {
     "data": {
      "text/plain": [
       "(23172, 5)"
      ]
     },
     "execution_count": 15,
     "metadata": {},
     "output_type": "execute_result"
    }
   ],
   "source": [
    "df3.shape"
   ]
  },
  {
   "cell_type": "code",
   "execution_count": 16,
   "metadata": {},
   "outputs": [
    {
     "data": {
      "text/plain": [
       "Index(['Year', 'Events per 1,000 women'], dtype='object')"
      ]
     },
     "execution_count": 16,
     "metadata": {},
     "output_type": "execute_result"
    }
   ],
   "source": [
    "tmp = df3.groupby('Year').mean().reset_index()\n",
    "tmp.columns"
   ]
  },
  {
   "cell_type": "code",
   "execution_count": 17,
   "metadata": {},
   "outputs": [
    {
     "data": {
      "text/plain": [
       "<AxesSubplot:xlabel='Year', ylabel='Events per 1,000 women'>"
      ]
     },
     "execution_count": 17,
     "metadata": {},
     "output_type": "execute_result"
    },
    {
     "data": {
      "image/png": "[encoded data removed]",
      "text/plain": [
       "<Figure size 640x480 with 1 Axes>"
      ]
     },
     "metadata": {},
     "output_type": "display_data"
    }
   ],
   "source": [
    "sns.scatterplot(data = tmp, x = 'Year', y = 'Events per 1,000 women')"
   ]
  },
  {
   "attachments": {},
   "cell_type": "markdown",
   "metadata": {},
   "source": [
    "## Data Set 4: Global Abortion Incidence "
   ]
  },
  {
   "attachments": {},
   "cell_type": "markdown",
   "metadata": {},
   "source": [
    "**Available at: https://osf.io/6t4eh**"
   ]
  },
  {
   "cell_type": "code",
   "execution_count": 18,
   "metadata": {},
   "outputs": [],
   "source": [
    "df4 = pd.read_csv('Data/Global Abortion Incidence Dataset.csv')"
   ]
  },
  {
   "cell_type": "code",
   "execution_count": 19,
   "metadata": {},
   "outputs": [
    {
     "data": {
      "text/plain": [
       "1609000.0"
      ]
     },
     "execution_count": 19,
     "metadata": {},
     "output_type": "execute_result"
    }
   ],
   "source": [
    "tmp = sorted(df4.numberofabortions)\n",
    "tmp[-1]"
   ]
  },
  {
   "cell_type": "code",
   "execution_count": null,
   "metadata": {},
   "outputs": [],
   "source": []
  }
 ],
 "metadata": {
  "kernelspec": {
   "display_name": "lewagon",
   "language": "python",
   "name": "python3"
  },
  "language_info": {
   "codemirror_mode": {
    "name": "ipython",
    "version": 3
   },
   "file_extension": ".py",
   "mimetype": "text/x-python",
   "name": "python",
   "nbconvert_exporter": "python",
   "pygments_lexer": "ipython3",
   "version": "3.10.6"
  },
  "orig_nbformat": 4
 },
 "nbformat": 4,
 "nbformat_minor": 2
}
